{
 "cells": [
  {
   "cell_type": "code",
   "execution_count": 2,
   "id": "e25a2bc9-9bae-437f-a222-09a6711bfae1",
   "metadata": {},
   "outputs": [
    {
     "name": "stdin",
     "output_type": "stream",
     "text": [
      "Enter the string Amit\n"
     ]
    },
    {
     "name": "stdout",
     "output_type": "stream",
     "text": [
      "Amit\n"
     ]
    }
   ],
   "source": [
    "st = input(\"Enter the string\")\n",
    "print(st)"
   ]
  },
  {
   "cell_type": "code",
   "execution_count": 3,
   "id": "b76e6fbf-b57f-4b78-bbaa-dc597abfc7aa",
   "metadata": {},
   "outputs": [
    {
     "name": "stdout",
     "output_type": "stream",
     "text": [
      "Amit\n"
     ]
    }
   ],
   "source": [
    "print(st[0:4])"
   ]
  },
  {
   "cell_type": "code",
   "execution_count": 5,
   "id": "932fa08b-6747-4cdc-8f41-b52b15a989b0",
   "metadata": {},
   "outputs": [
    {
     "name": "stdout",
     "output_type": "stream",
     "text": [
      "t\n"
     ]
    }
   ],
   "source": [
    "print(st[-1])"
   ]
  },
  {
   "cell_type": "code",
   "execution_count": 9,
   "id": "db464e86-4d61-4510-b414-07df818b95a8",
   "metadata": {},
   "outputs": [
    {
     "name": "stdin",
     "output_type": "stream",
     "text": [
      "Enter the string Amit\n"
     ]
    },
    {
     "data": {
      "text/plain": [
       "'m'"
      ]
     },
     "execution_count": 9,
     "metadata": {},
     "output_type": "execute_result"
    }
   ],
   "source": [
    "str1 = input('Enter the string')[1]\n",
    "str1"
   ]
  },
  {
   "cell_type": "code",
   "execution_count": 10,
   "id": "ce037a26-2e9c-4c8b-b48e-35125c47e2f4",
   "metadata": {},
   "outputs": [
    {
     "name": "stdin",
     "output_type": "stream",
     "text": [
      "Enter the string Hello\n"
     ]
    },
    {
     "data": {
      "text/plain": [
       "'ell'"
      ]
     },
     "execution_count": 10,
     "metadata": {},
     "output_type": "execute_result"
    }
   ],
   "source": [
    "str1 = input('Enter the string')[1:4]\n",
    "str1"
   ]
  },
  {
   "cell_type": "markdown",
   "id": "7c78e4bb-c2e1-4938-904e-b6a1fe574c09",
   "metadata": {},
   "source": [
    "# Input with Expression"
   ]
  },
  {
   "cell_type": "code",
   "execution_count": 12,
   "id": "8d3b498b-b705-4dd0-b7d8-d96a6219492b",
   "metadata": {},
   "outputs": [
    {
     "name": "stdin",
     "output_type": "stream",
     "text": [
      "Enter a new String 10+6\n"
     ]
    },
    {
     "data": {
      "text/plain": [
       "'10+6'"
      ]
     },
     "execution_count": 12,
     "metadata": {},
     "output_type": "execute_result"
    }
   ],
   "source": [
    "exp = input('Enter a new String')\n",
    "print(exp)"
   ]
  },
  {
   "cell_type": "code",
   "execution_count": 13,
   "id": "855ecc05-472d-41ee-b1ce-6c1d4a55fda5",
   "metadata": {},
   "outputs": [
    {
     "name": "stdin",
     "output_type": "stream",
     "text": [
      "Enter a new String 2+3\n"
     ]
    },
    {
     "ename": "ValueError",
     "evalue": "invalid literal for int() with base 10: '2+3'",
     "output_type": "error",
     "traceback": [
      "\u001b[31m---------------------------------------------------------------------------\u001b[39m",
      "\u001b[31mValueError\u001b[39m                                Traceback (most recent call last)",
      "\u001b[36mCell\u001b[39m\u001b[36m \u001b[39m\u001b[32mIn[13]\u001b[39m\u001b[32m, line 1\u001b[39m\n\u001b[32m----> \u001b[39m\u001b[32m1\u001b[39m exp = \u001b[38;5;28;43mint\u001b[39;49m\u001b[43m(\u001b[49m\u001b[38;5;28;43minput\u001b[39;49m\u001b[43m(\u001b[49m\u001b[33;43m'\u001b[39;49m\u001b[33;43mEnter a new String\u001b[39;49m\u001b[33;43m'\u001b[39;49m\u001b[43m)\u001b[49m\u001b[43m)\u001b[49m\n\u001b[32m      2\u001b[39m \u001b[38;5;28mprint\u001b[39m(exp)\n",
      "\u001b[31mValueError\u001b[39m: invalid literal for int() with base 10: '2+3'"
     ]
    }
   ],
   "source": [
    "exp = int(input('Enter a new String'))\n",
    "print(exp)"
   ]
  },
  {
   "cell_type": "code",
   "execution_count": 15,
   "id": "8b89b234-002c-4d2a-94b7-ec29dbc798b5",
   "metadata": {},
   "outputs": [
    {
     "name": "stdin",
     "output_type": "stream",
     "text": [
      "Enter a new String 10+3\n"
     ]
    },
    {
     "name": "stdout",
     "output_type": "stream",
     "text": [
      "13\n"
     ]
    }
   ],
   "source": [
    "exp1 = eval(input('Enter a new String')) # use eval\n",
    "print(exp1)"
   ]
  },
  {
   "cell_type": "code",
   "execution_count": 17,
   "id": "d63d8927-a372-41e1-af2c-247f82b574b0",
   "metadata": {},
   "outputs": [
    {
     "data": {
      "text/plain": [
       "'import sys\\n\\nx = int(sys.argv[1])\\ny = int(sys.argv[2])\\nm = int(sys.argv[3])\\n\\nz = x + y + m\\n\\nprint(z)\\n\\n# call cmd and run \"python test.py 6 4 4\", so it will give you result 14 '"
      ]
     },
     "execution_count": 17,
     "metadata": {},
     "output_type": "execute_result"
    }
   ],
   "source": [
    "# use this in in .py file : \n",
    "\n",
    "'''import sys\n",
    "\n",
    "x = int(sys.argv[1])\n",
    "y = int(sys.argv[2])\n",
    "m = int(sys.argv[3])\n",
    "\n",
    "z = x + y + m\n",
    "\n",
    "print(z)\n",
    "\n",
    "# call cmd and run \"python test.py 6 4 4\", so it will give you result 14 '''\n"
   ]
  },
  {
   "cell_type": "code",
   "execution_count": null,
   "id": "04e5327e-9bda-4ea7-be63-78c22fb4d30c",
   "metadata": {},
   "outputs": [],
   "source": []
  },
  {
   "cell_type": "code",
   "execution_count": null,
   "id": "48211d20-7c29-4515-878e-c7b597630986",
   "metadata": {},
   "outputs": [],
   "source": []
  }
 ],
 "metadata": {
  "kernelspec": {
   "display_name": "Python 3 (ipykernel)",
   "language": "python",
   "name": "python3"
  },
  "language_info": {
   "codemirror_mode": {
    "name": "ipython",
    "version": 3
   },
   "file_extension": ".py",
   "mimetype": "text/x-python",
   "name": "python",
   "nbconvert_exporter": "python",
   "pygments_lexer": "ipython3",
   "version": "3.13.5"
  }
 },
 "nbformat": 4,
 "nbformat_minor": 5
}
