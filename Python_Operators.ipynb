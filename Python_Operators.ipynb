{
 "cells": [
  {
   "cell_type": "markdown",
   "id": "41a9fecc-acb6-4cc6-a12d-d0e82ece1f45",
   "metadata": {},
   "source": [
    "# Python Operators !!!"
   ]
  },
  {
   "cell_type": "code",
   "execution_count": 4,
   "id": "e4eb3f58-8c8c-4224-9797-bebf3e40eb86",
   "metadata": {},
   "outputs": [],
   "source": [
    "a= 10\n",
    "b = 2\n",
    "a,b = 10,5"
   ]
  },
  {
   "cell_type": "code",
   "execution_count": 2,
   "id": "7aad1f7b-2722-4098-97c4-03353bfc5ff0",
   "metadata": {},
   "outputs": [
    {
     "data": {
      "text/plain": [
       "1024"
      ]
     },
     "execution_count": 2,
     "metadata": {},
     "output_type": "execute_result"
    }
   ],
   "source": [
    "b**a # square"
   ]
  },
  {
   "cell_type": "code",
   "execution_count": 6,
   "id": "704c5c09-e43c-4215-bfc6-e3ebbb3f0c0d",
   "metadata": {},
   "outputs": [
    {
     "name": "stdout",
     "output_type": "stream",
     "text": [
      "15\n",
      "5\n",
      "50\n",
      "2.0\n",
      "2\n",
      "100000\n",
      "0\n"
     ]
    }
   ],
   "source": [
    "print(a+b)\n",
    "print(a-b)\n",
    "print(a*b)\n",
    "print(a/b)\n",
    "print(a//b)\n",
    "print(a**b)\n",
    "print(a%b)"
   ]
  },
  {
   "cell_type": "markdown",
   "id": "df46e201-4e30-4ad3-ae60-846de8448732",
   "metadata": {},
   "source": [
    "# Assignment Operator"
   ]
  },
  {
   "cell_type": "code",
   "execution_count": 7,
   "id": "db845967-ffe2-46df-8770-0a55eaa55c50",
   "metadata": {},
   "outputs": [
    {
     "data": {
      "text/plain": [
       "4"
      ]
     },
     "execution_count": 7,
     "metadata": {},
     "output_type": "execute_result"
    }
   ],
   "source": [
    "x=2\n",
    "x = x+2\n",
    "x"
   ]
  },
  {
   "cell_type": "code",
   "execution_count": 9,
   "id": "ac473dc9-0cc9-4a05-a506-2a468f0266e8",
   "metadata": {},
   "outputs": [
    {
     "data": {
      "text/plain": [
       "8"
      ]
     },
     "execution_count": 9,
     "metadata": {},
     "output_type": "execute_result"
    }
   ],
   "source": [
    "x+=2\n",
    "x"
   ]
  },
  {
   "cell_type": "code",
   "execution_count": 11,
   "id": "70f8d609-3ec0-49b1-ac19-77eaa3d15000",
   "metadata": {},
   "outputs": [
    {
     "data": {
      "text/plain": [
       "32"
      ]
     },
     "execution_count": 11,
     "metadata": {},
     "output_type": "execute_result"
    }
   ],
   "source": [
    "x *= 2\n",
    "x"
   ]
  },
  {
   "cell_type": "code",
   "execution_count": 12,
   "id": "8d018234-edb6-4c55-88d4-6f810ab8e7fc",
   "metadata": {},
   "outputs": [
    {
     "data": {
      "text/plain": [
       "16.0"
      ]
     },
     "execution_count": 12,
     "metadata": {},
     "output_type": "execute_result"
    }
   ],
   "source": [
    "x /=2\n",
    "x"
   ]
  },
  {
   "cell_type": "code",
   "execution_count": 13,
   "id": "2ac70aa5-1130-486a-be12-da27011678e4",
   "metadata": {},
   "outputs": [
    {
     "data": {
      "text/plain": [
       "8.0"
      ]
     },
     "execution_count": 13,
     "metadata": {},
     "output_type": "execute_result"
    }
   ],
   "source": [
    "x //=2\n",
    "x"
   ]
  },
  {
   "cell_type": "code",
   "execution_count": 14,
   "id": "98ab6019-fbbc-47f0-839e-1818b80f6dc6",
   "metadata": {},
   "outputs": [
    {
     "data": {
      "text/plain": [
       "4"
      ]
     },
     "execution_count": 14,
     "metadata": {},
     "output_type": "execute_result"
    }
   ],
   "source": [
    "y = 4\n",
    "y"
   ]
  },
  {
   "cell_type": "code",
   "execution_count": 16,
   "id": "4fb62d3d-5702-4ad5-a20f-002f71e8a688",
   "metadata": {},
   "outputs": [
    {
     "data": {
      "text/plain": [
       "1"
      ]
     },
     "execution_count": 16,
     "metadata": {},
     "output_type": "execute_result"
    }
   ],
   "source": [
    "y //=2\n",
    "y"
   ]
  },
  {
   "cell_type": "markdown",
   "id": "276e3a44-c586-4f5c-b96c-5aa1a9db342e",
   "metadata": {},
   "source": [
    "# Unary Operator"
   ]
  },
  {
   "cell_type": "code",
   "execution_count": 17,
   "id": "92382545-9a12-48be-a3ce-b44b43cfcdb2",
   "metadata": {},
   "outputs": [
    {
     "data": {
      "text/plain": [
       "7"
      ]
     },
     "execution_count": 17,
     "metadata": {},
     "output_type": "execute_result"
    }
   ],
   "source": [
    "n = 7\n",
    "n"
   ]
  },
  {
   "cell_type": "code",
   "execution_count": 19,
   "id": "3a6bba91-9e5f-4070-a177-1780e743c9a6",
   "metadata": {},
   "outputs": [
    {
     "data": {
      "text/plain": [
       "-7"
      ]
     },
     "execution_count": 19,
     "metadata": {},
     "output_type": "execute_result"
    }
   ],
   "source": [
    "m = -(n)\n",
    "m"
   ]
  },
  {
   "cell_type": "markdown",
   "id": "143c8a78-0a43-4b94-8625-bf4b2871e922",
   "metadata": {},
   "source": [
    "# Relational Operator"
   ]
  },
  {
   "cell_type": "code",
   "execution_count": 24,
   "id": "ef72c0b2-a4a0-4372-8063-6cc00357c282",
   "metadata": {},
   "outputs": [],
   "source": [
    "G=5\n",
    "H=2"
   ]
  },
  {
   "cell_type": "code",
   "execution_count": 26,
   "id": "aabfb509-573a-4b69-a876-023ec677e5dd",
   "metadata": {},
   "outputs": [
    {
     "data": {
      "text/plain": [
       "True"
      ]
     },
     "execution_count": 26,
     "metadata": {},
     "output_type": "execute_result"
    }
   ],
   "source": [
    "G>H"
   ]
  },
  {
   "cell_type": "code",
   "execution_count": 28,
   "id": "57f71e6a-95aa-44fb-9f0c-2ac456594a8b",
   "metadata": {},
   "outputs": [
    {
     "data": {
      "text/plain": [
       "False"
      ]
     },
     "execution_count": 28,
     "metadata": {},
     "output_type": "execute_result"
    }
   ],
   "source": [
    "G==H"
   ]
  },
  {
   "cell_type": "code",
   "execution_count": 29,
   "id": "277eab74-c583-4e26-8396-7ddd8770e72e",
   "metadata": {},
   "outputs": [
    {
     "data": {
      "text/plain": [
       "True"
      ]
     },
     "execution_count": 29,
     "metadata": {},
     "output_type": "execute_result"
    }
   ],
   "source": [
    "G!=H"
   ]
  },
  {
   "cell_type": "code",
   "execution_count": 30,
   "id": "53d045d2-f423-48c1-a7dc-07bad587ae33",
   "metadata": {},
   "outputs": [],
   "source": [
    "d=3\n",
    "e=3"
   ]
  },
  {
   "cell_type": "code",
   "execution_count": 31,
   "id": "4f01e190-a5f0-4569-bff1-f14cd21e554d",
   "metadata": {},
   "outputs": [
    {
     "data": {
      "text/plain": [
       "True"
      ]
     },
     "execution_count": 31,
     "metadata": {},
     "output_type": "execute_result"
    }
   ],
   "source": [
    "d>=e"
   ]
  },
  {
   "cell_type": "code",
   "execution_count": 32,
   "id": "2fdaee71-facb-4761-9a91-b6a59d2db88f",
   "metadata": {},
   "outputs": [
    {
     "data": {
      "text/plain": [
       "False"
      ]
     },
     "execution_count": 32,
     "metadata": {},
     "output_type": "execute_result"
    }
   ],
   "source": [
    "d!=e"
   ]
  },
  {
   "cell_type": "code",
   "execution_count": 33,
   "id": "63d07a5a-a2dc-418e-9a4e-8c8779ab9238",
   "metadata": {},
   "outputs": [
    {
     "data": {
      "text/plain": [
       "True"
      ]
     },
     "execution_count": 33,
     "metadata": {},
     "output_type": "execute_result"
    }
   ],
   "source": [
    "d==e"
   ]
  },
  {
   "cell_type": "code",
   "execution_count": 34,
   "id": "c5e93a9a-d31c-4222-9fd0-9573a305386c",
   "metadata": {},
   "outputs": [],
   "source": [
    "d=e"
   ]
  },
  {
   "cell_type": "code",
   "execution_count": 35,
   "id": "65c62c05-fcf6-4a34-b515-e7ac067f334e",
   "metadata": {},
   "outputs": [
    {
     "data": {
      "text/plain": [
       "True"
      ]
     },
     "execution_count": 35,
     "metadata": {},
     "output_type": "execute_result"
    }
   ],
   "source": [
    "d==e"
   ]
  },
  {
   "cell_type": "code",
   "execution_count": 36,
   "id": "58c2f3e5-7d14-419e-97d7-2e17d3447e1f",
   "metadata": {},
   "outputs": [
    {
     "data": {
      "text/plain": [
       "(3, 3)"
      ]
     },
     "execution_count": 36,
     "metadata": {},
     "output_type": "execute_result"
    }
   ],
   "source": [
    "d,e"
   ]
  },
  {
   "cell_type": "code",
   "execution_count": 41,
   "id": "f19f8231-8404-4c1d-8ba8-54d20c282d4a",
   "metadata": {},
   "outputs": [],
   "source": [
    "d=3\n",
    "e=4"
   ]
  },
  {
   "cell_type": "code",
   "execution_count": 38,
   "id": "1216adc1-813d-4ec7-bc27-d5761abf5d1f",
   "metadata": {},
   "outputs": [],
   "source": [
    "d=e"
   ]
  },
  {
   "cell_type": "code",
   "execution_count": 42,
   "id": "f984ce4a-6530-4e3d-be6b-2e5aa7ca4541",
   "metadata": {},
   "outputs": [
    {
     "data": {
      "text/plain": [
       "(3, 4)"
      ]
     },
     "execution_count": 42,
     "metadata": {},
     "output_type": "execute_result"
    }
   ],
   "source": [
    "d,e"
   ]
  },
  {
   "cell_type": "markdown",
   "id": "2e24368a-0978-4834-bd2d-5d1a030cbfe2",
   "metadata": {},
   "source": [
    "# Logical operator"
   ]
  },
  {
   "cell_type": "code",
   "execution_count": 43,
   "id": "dceba591-1a5e-4746-8019-69ef94daad11",
   "metadata": {},
   "outputs": [],
   "source": [
    "a1=5\n",
    "b1=4"
   ]
  },
  {
   "cell_type": "code",
   "execution_count": 44,
   "id": "ca2844a7-a723-470f-8693-64bbb530a999",
   "metadata": {},
   "outputs": [
    {
     "data": {
      "text/plain": [
       "True"
      ]
     },
     "execution_count": 44,
     "metadata": {},
     "output_type": "execute_result"
    }
   ],
   "source": [
    "a1 < 8 and b1 < 5 "
   ]
  },
  {
   "cell_type": "code",
   "execution_count": 45,
   "id": "92db7d54-75ab-4bef-864e-c0d2f5212985",
   "metadata": {},
   "outputs": [
    {
     "data": {
      "text/plain": [
       "True"
      ]
     },
     "execution_count": 45,
     "metadata": {},
     "output_type": "execute_result"
    }
   ],
   "source": [
    "a1 < 8 or b1 < 5 "
   ]
  },
  {
   "cell_type": "code",
   "execution_count": 47,
   "id": "8b9cea9c-d095-48bf-bafb-820375a123e4",
   "metadata": {},
   "outputs": [
    {
     "data": {
      "text/plain": [
       "True"
      ]
     },
     "execution_count": 47,
     "metadata": {},
     "output_type": "execute_result"
    }
   ],
   "source": [
    "a1 < 8 and b1 < 5 "
   ]
  },
  {
   "cell_type": "code",
   "execution_count": 48,
   "id": "69ce8935-3c75-43e0-9a5d-5412a0b54b33",
   "metadata": {},
   "outputs": [],
   "source": [
    "a1=5\n",
    "b1=4\n",
    "C= 9"
   ]
  },
  {
   "cell_type": "code",
   "execution_count": 49,
   "id": "4b11463c-0220-47d0-8783-c9741ddc2f1a",
   "metadata": {},
   "outputs": [
    {
     "data": {
      "text/plain": [
       "True"
      ]
     },
     "execution_count": 49,
     "metadata": {},
     "output_type": "execute_result"
    }
   ],
   "source": [
    "a1 < 8 or b1 < 5 and c > 4"
   ]
  },
  {
   "cell_type": "code",
   "execution_count": 50,
   "id": "ee330a30-e732-4064-b2d6-e2e5df856b49",
   "metadata": {},
   "outputs": [],
   "source": [
    "x = False"
   ]
  },
  {
   "cell_type": "code",
   "execution_count": 51,
   "id": "57e23e3d-47b2-41bf-9087-32718ba27735",
   "metadata": {},
   "outputs": [
    {
     "data": {
      "text/plain": [
       "True"
      ]
     },
     "execution_count": 51,
     "metadata": {},
     "output_type": "execute_result"
    }
   ],
   "source": [
    "not x"
   ]
  },
  {
   "cell_type": "markdown",
   "id": "db9814aa-98fd-44be-83c1-3a4bfa4c7033",
   "metadata": {},
   "source": [
    "# Binary number"
   ]
  },
  {
   "cell_type": "code",
   "execution_count": 52,
   "id": "68c4e3bd-a739-4a7c-bb2a-6c5c5ff18a11",
   "metadata": {},
   "outputs": [
    {
     "data": {
      "text/plain": [
       "'0b11001'"
      ]
     },
     "execution_count": 52,
     "metadata": {},
     "output_type": "execute_result"
    }
   ],
   "source": [
    "bin(25) # Binary , divide by 2"
   ]
  },
  {
   "cell_type": "code",
   "execution_count": 53,
   "id": "4c7cfee4-500d-4dcb-bce3-4a401c40b71c",
   "metadata": {},
   "outputs": [
    {
     "data": {
      "text/plain": [
       "25"
      ]
     },
     "execution_count": 53,
     "metadata": {},
     "output_type": "execute_result"
    }
   ],
   "source": [
    "int(0b11001)"
   ]
  },
  {
   "cell_type": "code",
   "execution_count": 55,
   "id": "889ec136-8c32-435f-86c2-d11941af9825",
   "metadata": {},
   "outputs": [
    {
     "data": {
      "text/plain": [
       "'0o31'"
      ]
     },
     "execution_count": 55,
     "metadata": {},
     "output_type": "execute_result"
    }
   ],
   "source": [
    "oct(25) # this is Octal, divide by 8"
   ]
  },
  {
   "cell_type": "code",
   "execution_count": 56,
   "id": "273619d5-1b46-40ea-ba28-39d8774e8313",
   "metadata": {},
   "outputs": [
    {
     "data": {
      "text/plain": [
       "25"
      ]
     },
     "execution_count": 56,
     "metadata": {},
     "output_type": "execute_result"
    }
   ],
   "source": [
    "int(0o31)"
   ]
  },
  {
   "cell_type": "code",
   "execution_count": 57,
   "id": "36b4a5bc-1d75-4c65-a0f2-bb69b15f7ca1",
   "metadata": {},
   "outputs": [
    {
     "data": {
      "text/plain": [
       "'0x1'"
      ]
     },
     "execution_count": 57,
     "metadata": {},
     "output_type": "execute_result"
    }
   ],
   "source": [
    "hex(1)"
   ]
  },
  {
   "cell_type": "code",
   "execution_count": 58,
   "id": "da842166-bcd0-4bea-95a5-40317edde93d",
   "metadata": {},
   "outputs": [
    {
     "data": {
      "text/plain": [
       "'0x19'"
      ]
     },
     "execution_count": 58,
     "metadata": {},
     "output_type": "execute_result"
    }
   ],
   "source": [
    "hex(25) # hexa decimal, divide by 16"
   ]
  },
  {
   "cell_type": "code",
   "execution_count": 59,
   "id": "fb32eced-f23b-46a1-b15b-3023f15a5721",
   "metadata": {},
   "outputs": [
    {
     "data": {
      "text/plain": [
       "15"
      ]
     },
     "execution_count": 59,
     "metadata": {},
     "output_type": "execute_result"
    }
   ],
   "source": [
    "0xf"
   ]
  },
  {
   "cell_type": "code",
   "execution_count": 1,
   "id": "ce7244b8-0a0e-40eb-aeec-6c35bc7ed04b",
   "metadata": {},
   "outputs": [
    {
     "data": {
      "text/plain": [
       "-6"
      ]
     },
     "execution_count": 1,
     "metadata": {},
     "output_type": "execute_result"
    }
   ],
   "source": [
    "~5 # Complements : store the negative value"
   ]
  },
  {
   "cell_type": "markdown",
   "id": "8a7d5d1c-4766-41ec-92d9-48078d680f54",
   "metadata": {},
   "source": [
    "# Bitwise Or and And\n"
   ]
  },
  {
   "cell_type": "code",
   "execution_count": 2,
   "id": "d2ca4b45-157e-470a-8970-a04b131b7920",
   "metadata": {},
   "outputs": [
    {
     "data": {
      "text/plain": [
       "12"
      ]
     },
     "execution_count": 2,
     "metadata": {},
     "output_type": "execute_result"
    }
   ],
   "source": [
    "12 & 13"
   ]
  },
  {
   "cell_type": "code",
   "execution_count": 4,
   "id": "d4fa66da-0638-4d3d-96d7-b415c50297c8",
   "metadata": {},
   "outputs": [
    {
     "data": {
      "text/plain": [
       "13"
      ]
     },
     "execution_count": 4,
     "metadata": {},
     "output_type": "execute_result"
    }
   ],
   "source": [
    "12 | 13"
   ]
  },
  {
   "cell_type": "code",
   "execution_count": 5,
   "id": "bb158298-6476-49ae-b141-dde790c5db35",
   "metadata": {},
   "outputs": [
    {
     "data": {
      "text/plain": [
       "3"
      ]
     },
     "execution_count": 5,
     "metadata": {},
     "output_type": "execute_result"
    }
   ],
   "source": [
    "1 | 3"
   ]
  },
  {
   "cell_type": "code",
   "execution_count": 6,
   "id": "18e3f40e-2d5b-4548-9671-27d374e6d708",
   "metadata": {},
   "outputs": [
    {
     "data": {
      "text/plain": [
       "1"
      ]
     },
     "execution_count": 6,
     "metadata": {},
     "output_type": "execute_result"
    }
   ],
   "source": [
    "# XOR\n",
    "12 ^ 13"
   ]
  },
  {
   "cell_type": "code",
   "execution_count": 7,
   "id": "4547e784-5e9b-40b2-b920-637fc3a31cca",
   "metadata": {},
   "outputs": [
    {
     "data": {
      "text/plain": [
       "10"
      ]
     },
     "execution_count": 7,
     "metadata": {},
     "output_type": "execute_result"
    }
   ],
   "source": [
    "40 ^ 34"
   ]
  },
  {
   "cell_type": "code",
   "execution_count": 8,
   "id": "792be2b3-918f-4590-b3ae-dd2383e4bc2c",
   "metadata": {},
   "outputs": [
    {
     "name": "stdout",
     "output_type": "stream",
     "text": [
      "0b101000\n",
      "0b100010\n"
     ]
    }
   ],
   "source": [
    "print(bin(40))\n",
    "print(bin(34))"
   ]
  },
  {
   "cell_type": "code",
   "execution_count": 9,
   "id": "83179c7b-5527-4ef5-9eda-efa1ae983ef6",
   "metadata": {},
   "outputs": [
    {
     "data": {
      "text/plain": [
       "10"
      ]
     },
     "execution_count": 9,
     "metadata": {},
     "output_type": "execute_result"
    }
   ],
   "source": [
    "40 ^ 34"
   ]
  },
  {
   "cell_type": "markdown",
   "id": "36582ef8-f651-4681-a03a-d7df125b1393",
   "metadata": {},
   "source": [
    "# left and Right Shift <<, >>"
   ]
  },
  {
   "cell_type": "code",
   "execution_count": 10,
   "id": "cdd35ca3-b05d-49cd-9ab4-7323d0b4a2a3",
   "metadata": {},
   "outputs": [
    {
     "data": {
      "text/plain": [
       "20"
      ]
     },
     "execution_count": 10,
     "metadata": {},
     "output_type": "execute_result"
    }
   ],
   "source": [
    "10 << 1 # it will add one 0 at last in binary value, so 10100"
   ]
  },
  {
   "cell_type": "code",
   "execution_count": 11,
   "id": "1a620ac0-4df0-4b9b-b0c7-b8da1884a40a",
   "metadata": {},
   "outputs": [
    {
     "data": {
      "text/plain": [
       "40"
      ]
     },
     "execution_count": 11,
     "metadata": {},
     "output_type": "execute_result"
    }
   ],
   "source": [
    "10 << 2 # it will add two 0 at last in binary value, so 101000"
   ]
  },
  {
   "cell_type": "code",
   "execution_count": 12,
   "id": "13fdac2f-8978-482e-a234-36d6095787cb",
   "metadata": {},
   "outputs": [
    {
     "data": {
      "text/plain": [
       "40"
      ]
     },
     "execution_count": 12,
     "metadata": {},
     "output_type": "execute_result"
    }
   ],
   "source": [
    "10 << 2"
   ]
  },
  {
   "cell_type": "code",
   "execution_count": 15,
   "id": "25d02ac7-5d76-42be-9f62-a16782e5afc8",
   "metadata": {},
   "outputs": [
    {
     "data": {
      "text/plain": [
       "'0b1010'"
      ]
     },
     "execution_count": 15,
     "metadata": {},
     "output_type": "execute_result"
    }
   ],
   "source": [
    "bin(10)\n",
    "\n"
   ]
  },
  {
   "cell_type": "code",
   "execution_count": 17,
   "id": "e7918193-cb04-4e40-96c6-ed57491910e0",
   "metadata": {},
   "outputs": [
    {
     "data": {
      "text/plain": [
       "5"
      ]
     },
     "execution_count": 17,
     "metadata": {},
     "output_type": "execute_result"
    }
   ],
   "source": [
    "10>>1 # remove one zero from this so - 101"
   ]
  },
  {
   "cell_type": "code",
   "execution_count": 18,
   "id": "f1430611-9a17-45c4-9f94-2007521f6077",
   "metadata": {},
   "outputs": [],
   "source": [
    "a=5\n",
    "b= 6\n",
    "a,b=b,a"
   ]
  },
  {
   "cell_type": "code",
   "execution_count": 19,
   "id": "2444575d-66a4-4612-8e85-35e670504686",
   "metadata": {},
   "outputs": [
    {
     "data": {
      "text/plain": [
       "(6, 5)"
      ]
     },
     "execution_count": 19,
     "metadata": {},
     "output_type": "execute_result"
    }
   ],
   "source": [
    "a,b"
   ]
  },
  {
   "cell_type": "code",
   "execution_count": 32,
   "id": "bf888c8f-ad27-42c1-8913-78a3d39960ab",
   "metadata": {},
   "outputs": [],
   "source": [
    "x = 8\n",
    "y = 9"
   ]
  },
  {
   "cell_type": "code",
   "execution_count": 26,
   "id": "7b1c9def-f99e-43e4-8dcf-0f3aefae25f5",
   "metadata": {},
   "outputs": [],
   "source": [
    "t= x\n",
    "x= y\n",
    "y= t\n"
   ]
  },
  {
   "cell_type": "code",
   "execution_count": 27,
   "id": "1827135b-825f-43e6-bf53-e55874ac5f06",
   "metadata": {},
   "outputs": [
    {
     "name": "stdout",
     "output_type": "stream",
     "text": [
      "9\n",
      "8\n"
     ]
    }
   ],
   "source": [
    "print(x)\n",
    "print(y)"
   ]
  },
  {
   "cell_type": "code",
   "execution_count": 30,
   "id": "35051a30-a758-4603-bc3e-f1609405afe5",
   "metadata": {},
   "outputs": [],
   "source": [
    "x= x^ y\n",
    "y = y^x\n",
    "x = x^ y"
   ]
  },
  {
   "cell_type": "code",
   "execution_count": 33,
   "id": "e93b3605-0fd1-4d0c-ae0c-1c9e6d93c1a9",
   "metadata": {},
   "outputs": [
    {
     "name": "stdout",
     "output_type": "stream",
     "text": [
      "8\n",
      "9\n"
     ]
    }
   ],
   "source": [
    "print(x)\n",
    "print(y)"
   ]
  },
  {
   "cell_type": "code",
   "execution_count": 34,
   "id": "202a19d4-f5e7-42f8-bad6-ea549627d0cb",
   "metadata": {},
   "outputs": [
    {
     "ename": "NameError",
     "evalue": "name 'swap' is not defined",
     "output_type": "error",
     "traceback": [
      "\u001b[31m---------------------------------------------------------------------------\u001b[39m",
      "\u001b[31mNameError\u001b[39m                                 Traceback (most recent call last)",
      "\u001b[36mCell\u001b[39m\u001b[36m \u001b[39m\u001b[32mIn[34]\u001b[39m\u001b[32m, line 1\u001b[39m\n\u001b[32m----> \u001b[39m\u001b[32m1\u001b[39m \u001b[43mswap\u001b[49m(x,y)\n",
      "\u001b[31mNameError\u001b[39m: name 'swap' is not defined"
     ]
    }
   ],
   "source": [
    "swap(x,y)"
   ]
  },
  {
   "cell_type": "code",
   "execution_count": 35,
   "id": "fe2046d9-bee5-48b8-a24a-0634418bcd86",
   "metadata": {},
   "outputs": [
    {
     "data": {
      "text/plain": [
       "'fine'"
      ]
     },
     "execution_count": 35,
     "metadata": {},
     "output_type": "execute_result"
    }
   ],
   "source": [
    "name1 = 'fine' # convert string fine to dine\n",
    "name1"
   ]
  },
  {
   "cell_type": "code",
   "execution_count": 37,
   "id": "fc6b09a7-d2d2-4119-8a81-b0d7dac373b2",
   "metadata": {},
   "outputs": [
    {
     "data": {
      "text/plain": [
       "'dine'"
      ]
     },
     "execution_count": 37,
     "metadata": {},
     "output_type": "execute_result"
    }
   ],
   "source": [
    "'d' + name1[1:] # how to add or change string as its immutable"
   ]
  },
  {
   "cell_type": "markdown",
   "id": "6849647d-61eb-497a-9046-06248651318b",
   "metadata": {},
   "source": [
    "# List"
   ]
  },
  {
   "cell_type": "code",
   "execution_count": 38,
   "id": "a53f2fc7-c74a-4c0f-a0b7-562d8312b265",
   "metadata": {},
   "outputs": [
    {
     "data": {
      "text/plain": [
       "[]"
      ]
     },
     "execution_count": 38,
     "metadata": {},
     "output_type": "execute_result"
    }
   ],
   "source": [
    "l = []\n",
    "l"
   ]
  },
  {
   "cell_type": "code",
   "execution_count": 39,
   "id": "43c8247c-fa6d-4c94-b3e3-9f694ffc5aa6",
   "metadata": {},
   "outputs": [
    {
     "data": {
      "text/plain": [
       "list"
      ]
     },
     "execution_count": 39,
     "metadata": {},
     "output_type": "execute_result"
    }
   ],
   "source": [
    "type(l)"
   ]
  },
  {
   "cell_type": "code",
   "execution_count": 41,
   "id": "550d0af6-0562-4773-9cd5-21c749cb5117",
   "metadata": {},
   "outputs": [],
   "source": [
    "l.insert(0,2)"
   ]
  },
  {
   "cell_type": "code",
   "execution_count": 42,
   "id": "d6ed6340-2c79-4ca2-84ea-79c854dd9d29",
   "metadata": {},
   "outputs": [
    {
     "data": {
      "text/plain": [
       "[2]"
      ]
     },
     "execution_count": 42,
     "metadata": {},
     "output_type": "execute_result"
    }
   ],
   "source": [
    "l"
   ]
  },
  {
   "cell_type": "code",
   "execution_count": 43,
   "id": "79b4ee9b-6d71-4084-9431-8aef5944e08f",
   "metadata": {},
   "outputs": [],
   "source": [
    "l.append(10)"
   ]
  },
  {
   "cell_type": "code",
   "execution_count": 44,
   "id": "6059f47b-6c1f-44a7-a5f5-2f928751e9c7",
   "metadata": {},
   "outputs": [
    {
     "data": {
      "text/plain": [
       "[2, 10]"
      ]
     },
     "execution_count": 44,
     "metadata": {},
     "output_type": "execute_result"
    }
   ],
   "source": [
    "l"
   ]
  },
  {
   "cell_type": "code",
   "execution_count": 45,
   "id": "707fd809-22d7-430e-b394-08ef9e8f2ec3",
   "metadata": {},
   "outputs": [
    {
     "ename": "TypeError",
     "evalue": "list.append() takes exactly one argument (2 given)",
     "output_type": "error",
     "traceback": [
      "\u001b[31m---------------------------------------------------------------------------\u001b[39m",
      "\u001b[31mTypeError\u001b[39m                                 Traceback (most recent call last)",
      "\u001b[36mCell\u001b[39m\u001b[36m \u001b[39m\u001b[32mIn[45]\u001b[39m\u001b[32m, line 1\u001b[39m\n\u001b[32m----> \u001b[39m\u001b[32m1\u001b[39m \u001b[43ml\u001b[49m\u001b[43m.\u001b[49m\u001b[43mappend\u001b[49m\u001b[43m(\u001b[49m\u001b[32;43m2\u001b[39;49m\u001b[43m,\u001b[49m\u001b[32;43m10\u001b[39;49m\u001b[43m)\u001b[49m\n",
      "\u001b[31mTypeError\u001b[39m: list.append() takes exactly one argument (2 given)"
     ]
    }
   ],
   "source": [
    "l.append(2,10) # list.append() takes exactly one argument (2 given)"
   ]
  },
  {
   "cell_type": "code",
   "execution_count": 46,
   "id": "9680a4cb-4d0f-4c50-8503-db653f155569",
   "metadata": {},
   "outputs": [],
   "source": [
    "l.append(20)\n",
    "l.append(30)\n",
    "l.append(40)\n",
    "l.append(50)"
   ]
  },
  {
   "cell_type": "code",
   "execution_count": 47,
   "id": "88de4be5-dc48-4b3f-ae86-8de115eb5128",
   "metadata": {},
   "outputs": [
    {
     "data": {
      "text/plain": [
       "[2, 10, 20, 30, 40, 50]"
      ]
     },
     "execution_count": 47,
     "metadata": {},
     "output_type": "execute_result"
    }
   ],
   "source": [
    "l"
   ]
  },
  {
   "cell_type": "code",
   "execution_count": 48,
   "id": "9d23e0f6-4fdc-4252-ba74-ae185233e384",
   "metadata": {},
   "outputs": [
    {
     "data": {
      "text/plain": [
       "6"
      ]
     },
     "execution_count": 48,
     "metadata": {},
     "output_type": "execute_result"
    }
   ],
   "source": [
    "len(l)"
   ]
  },
  {
   "cell_type": "code",
   "execution_count": 49,
   "id": "06afb36b-3a5f-46f0-be5b-b873cf2e4334",
   "metadata": {},
   "outputs": [
    {
     "data": {
      "text/plain": [
       "2"
      ]
     },
     "execution_count": 49,
     "metadata": {},
     "output_type": "execute_result"
    }
   ],
   "source": [
    "l[0]"
   ]
  },
  {
   "cell_type": "code",
   "execution_count": 50,
   "id": "e40b769e-2e86-42b8-9c28-d3354818fe69",
   "metadata": {},
   "outputs": [
    {
     "data": {
      "text/plain": [
       "[2, 10, 20, 30, 40, 50]"
      ]
     },
     "execution_count": 50,
     "metadata": {},
     "output_type": "execute_result"
    }
   ],
   "source": [
    "l[:]"
   ]
  },
  {
   "cell_type": "code",
   "execution_count": 51,
   "id": "25d4ee31-3d9b-496c-89da-8ce2c2e3a155",
   "metadata": {},
   "outputs": [
    {
     "data": {
      "text/plain": [
       "[10, 20, 30, 40]"
      ]
     },
     "execution_count": 51,
     "metadata": {},
     "output_type": "execute_result"
    }
   ],
   "source": [
    "l[1:5]"
   ]
  },
  {
   "cell_type": "code",
   "execution_count": null,
   "id": "de64e14c-ff7f-4dee-b2ea-f66c84ab0831",
   "metadata": {},
   "outputs": [],
   "source": []
  }
 ],
 "metadata": {
  "kernelspec": {
   "display_name": "Python 3 (ipykernel)",
   "language": "python",
   "name": "python3"
  },
  "language_info": {
   "codemirror_mode": {
    "name": "ipython",
    "version": 3
   },
   "file_extension": ".py",
   "mimetype": "text/x-python",
   "name": "python",
   "nbconvert_exporter": "python",
   "pygments_lexer": "ipython3",
   "version": "3.13.5"
  }
 },
 "nbformat": 4,
 "nbformat_minor": 5
}
