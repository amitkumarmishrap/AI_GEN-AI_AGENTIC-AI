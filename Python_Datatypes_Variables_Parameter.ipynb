{
 "cells": [
  {
   "cell_type": "markdown",
   "id": "d546b161-97e4-45c6-a2fb-f4c1c65e82ed",
   "metadata": {},
   "source": [
    "# Variable , Datatypes.."
   ]
  },
  {
   "cell_type": "code",
   "execution_count": 2,
   "id": "07e2524e-c388-494e-b719-3306ab4e03bb",
   "metadata": {},
   "outputs": [
    {
     "data": {
      "text/plain": [
       "5"
      ]
     },
     "execution_count": 2,
     "metadata": {},
     "output_type": "execute_result"
    }
   ],
   "source": [
    "i = 5\n",
    "i"
   ]
  },
  {
   "cell_type": "code",
   "execution_count": 3,
   "id": "a1a0cfaf-6632-418a-833c-e39ae8149fdb",
   "metadata": {},
   "outputs": [
    {
     "data": {
      "text/plain": [
       "int"
      ]
     },
     "execution_count": 3,
     "metadata": {},
     "output_type": "execute_result"
    }
   ],
   "source": [
    "type(i)"
   ]
  },
  {
   "cell_type": "code",
   "execution_count": 4,
   "id": "0fc13414-54be-4198-a340-addf7e7d936c",
   "metadata": {},
   "outputs": [
    {
     "data": {
      "text/plain": [
       "100.345"
      ]
     },
     "execution_count": 4,
     "metadata": {},
     "output_type": "execute_result"
    }
   ],
   "source": [
    "f = 100.345\n",
    "f"
   ]
  },
  {
   "cell_type": "code",
   "execution_count": 5,
   "id": "d2cbdd1e-0f52-43de-96aa-781d3f521891",
   "metadata": {},
   "outputs": [
    {
     "data": {
      "text/plain": [
       "float"
      ]
     },
     "execution_count": 5,
     "metadata": {},
     "output_type": "execute_result"
    }
   ],
   "source": [
    "type(f)"
   ]
  },
  {
   "cell_type": "code",
   "execution_count": 6,
   "id": "5774f133-4b83-4622-9ab4-8f475f94d008",
   "metadata": {},
   "outputs": [
    {
     "data": {
      "text/plain": [
       "2.4"
      ]
     },
     "execution_count": 6,
     "metadata": {},
     "output_type": "execute_result"
    }
   ],
   "source": [
    "f1 = 2.4e0\n",
    "f1"
   ]
  },
  {
   "cell_type": "code",
   "execution_count": 7,
   "id": "9dec4e9c-3686-45aa-bda8-93b5b70f2c44",
   "metadata": {},
   "outputs": [
    {
     "data": {
      "text/plain": [
       "24.0"
      ]
     },
     "execution_count": 7,
     "metadata": {},
     "output_type": "execute_result"
    }
   ],
   "source": [
    "f2 = 2.4e1 # here e = 10, so 2.4 * 10 = 24\n",
    "f2"
   ]
  },
  {
   "cell_type": "code",
   "execution_count": 8,
   "id": "cba97fe3-8815-4823-8354-b006760bb65b",
   "metadata": {},
   "outputs": [
    {
     "data": {
      "text/plain": [
       "240.0"
      ]
     },
     "execution_count": 8,
     "metadata": {},
     "output_type": "execute_result"
    }
   ],
   "source": [
    "f3 = 2.4e2 # here e = 100 so 2.4 * 100 = 240\n",
    "f3"
   ]
  },
  {
   "cell_type": "code",
   "execution_count": 9,
   "id": "27742d25-9ee6-4738-ba67-b701429fbb57",
   "metadata": {},
   "outputs": [
    {
     "data": {
      "text/plain": [
       "2400.0"
      ]
     },
     "execution_count": 9,
     "metadata": {},
     "output_type": "execute_result"
    }
   ],
   "source": [
    "f4 = 2.4E3 # here e = 1000 so 2.4 * 1000 = 2400\n",
    "f4"
   ]
  },
  {
   "cell_type": "code",
   "execution_count": 10,
   "id": "4a859bcb-fc61-4d38-a28c-0593110cd470",
   "metadata": {},
   "outputs": [
    {
     "data": {
      "text/plain": [
       "(10+2j)"
      ]
     },
     "execution_count": 10,
     "metadata": {},
     "output_type": "execute_result"
    }
   ],
   "source": [
    "c = 10 + 2j  # 10 is real number and 2 is imaginary\n",
    "c"
   ]
  },
  {
   "cell_type": "code",
   "execution_count": 12,
   "id": "0a8cac38-1727-44d9-9ba9-b45e93157751",
   "metadata": {},
   "outputs": [
    {
     "data": {
      "text/plain": [
       "2.0"
      ]
     },
     "execution_count": 12,
     "metadata": {},
     "output_type": "execute_result"
    }
   ],
   "source": [
    "type(c)"
   ]
  },
  {
   "cell_type": "code",
   "execution_count": 13,
   "id": "4f9d8c35-d56b-48e4-9ab4-5f536ee7ec7a",
   "metadata": {},
   "outputs": [
    {
     "data": {
      "text/plain": [
       "10.0"
      ]
     },
     "execution_count": 13,
     "metadata": {},
     "output_type": "execute_result"
    }
   ],
   "source": [
    "c.real"
   ]
  },
  {
   "cell_type": "code",
   "execution_count": 14,
   "id": "9b48bb99-f7da-42da-990a-7d9afc1f3983",
   "metadata": {},
   "outputs": [
    {
     "data": {
      "text/plain": [
       "2.0"
      ]
     },
     "execution_count": 14,
     "metadata": {},
     "output_type": "execute_result"
    }
   ],
   "source": [
    "c.imag"
   ]
  },
  {
   "cell_type": "code",
   "execution_count": 15,
   "id": "bb13efcd-06ed-41f5-9809-45f826ae68ca",
   "metadata": {},
   "outputs": [
    {
     "name": "stdout",
     "output_type": "stream",
     "text": [
      "(8+8j)\n"
     ]
    }
   ],
   "source": [
    "c1 = 5+ 2j\n",
    "c2 = 3 +6J\n",
    "print(c1+c2)"
   ]
  },
  {
   "cell_type": "code",
   "execution_count": 16,
   "id": "8d53291a-9d1a-4463-a5cf-763da485bab9",
   "metadata": {},
   "outputs": [
    {
     "data": {
      "text/plain": [
       "bool"
      ]
     },
     "execution_count": 16,
     "metadata": {},
     "output_type": "execute_result"
    }
   ],
   "source": [
    "bool"
   ]
  },
  {
   "cell_type": "code",
   "execution_count": 17,
   "id": "3d04c9e7-9e77-4590-976e-f4ddf653c089",
   "metadata": {},
   "outputs": [
    {
     "ename": "NameError",
     "evalue": "name 'true' is not defined",
     "output_type": "error",
     "traceback": [
      "\u001b[31m---------------------------------------------------------------------------\u001b[39m",
      "\u001b[31mNameError\u001b[39m                                 Traceback (most recent call last)",
      "\u001b[36mCell\u001b[39m\u001b[36m \u001b[39m\u001b[32mIn[17]\u001b[39m\u001b[32m, line 1\u001b[39m\n\u001b[32m----> \u001b[39m\u001b[32m1\u001b[39m \u001b[43mtrue\u001b[49m + true \n",
      "\u001b[31mNameError\u001b[39m: name 'true' is not defined"
     ]
    }
   ],
   "source": [
    "true + true # should be capital "
   ]
  },
  {
   "cell_type": "code",
   "execution_count": 18,
   "id": "8c383cfe-089e-4c23-bf58-c7918dc040ae",
   "metadata": {},
   "outputs": [
    {
     "data": {
      "text/plain": [
       "2"
      ]
     },
     "execution_count": 18,
     "metadata": {},
     "output_type": "execute_result"
    }
   ],
   "source": [
    "True + True"
   ]
  },
  {
   "cell_type": "code",
   "execution_count": 20,
   "id": "326003dc-63ab-4e11-947e-f11ed2c0ed72",
   "metadata": {},
   "outputs": [
    {
     "data": {
      "text/plain": [
       "1"
      ]
     },
     "execution_count": 20,
     "metadata": {},
     "output_type": "execute_result"
    }
   ],
   "source": [
    "True - False "
   ]
  },
  {
   "cell_type": "code",
   "execution_count": 21,
   "id": "c98ff786-545b-4b3e-9a40-57d8358d7e97",
   "metadata": {},
   "outputs": [
    {
     "data": {
      "text/plain": [
       "-1"
      ]
     },
     "execution_count": 21,
     "metadata": {},
     "output_type": "execute_result"
    }
   ],
   "source": [
    "False - True"
   ]
  },
  {
   "cell_type": "code",
   "execution_count": 22,
   "id": "d50c00fa-0be8-40fe-a396-24136e3a8252",
   "metadata": {},
   "outputs": [
    {
     "data": {
      "text/plain": [
       "0.0"
      ]
     },
     "execution_count": 22,
     "metadata": {},
     "output_type": "execute_result"
    }
   ],
   "source": [
    "False/True"
   ]
  },
  {
   "cell_type": "code",
   "execution_count": 23,
   "id": "93935728-dbcf-46fd-b100-25eb36ae4764",
   "metadata": {},
   "outputs": [
    {
     "ename": "ZeroDivisionError",
     "evalue": "division by zero",
     "output_type": "error",
     "traceback": [
      "\u001b[31m---------------------------------------------------------------------------\u001b[39m",
      "\u001b[31mZeroDivisionError\u001b[39m                         Traceback (most recent call last)",
      "\u001b[36mCell\u001b[39m\u001b[36m \u001b[39m\u001b[32mIn[23]\u001b[39m\u001b[32m, line 1\u001b[39m\n\u001b[32m----> \u001b[39m\u001b[32m1\u001b[39m \u001b[38;5;28;43;01mTrue\u001b[39;49;00m\u001b[43m/\u001b[49m\u001b[38;5;28;43;01mFalse\u001b[39;49;00m\n",
      "\u001b[31mZeroDivisionError\u001b[39m: division by zero"
     ]
    }
   ],
   "source": [
    "True/False"
   ]
  },
  {
   "cell_type": "code",
   "execution_count": 24,
   "id": "e261f88f-5f9d-45ae-856e-d70e88a577c7",
   "metadata": {},
   "outputs": [
    {
     "ename": "NameError",
     "evalue": "name 'welcopme' is not defined",
     "output_type": "error",
     "traceback": [
      "\u001b[31m---------------------------------------------------------------------------\u001b[39m",
      "\u001b[31mNameError\u001b[39m                                 Traceback (most recent call last)",
      "\u001b[36mCell\u001b[39m\u001b[36m \u001b[39m\u001b[32mIn[24]\u001b[39m\u001b[32m, line 1\u001b[39m\n\u001b[32m----> \u001b[39m\u001b[32m1\u001b[39m s  = \u001b[43mwelcopme\u001b[49m \u001b[38;5;66;03m# string should be with '',\"\", ''' '''\u001b[39;00m\n",
      "\u001b[31mNameError\u001b[39m: name 'welcopme' is not defined"
     ]
    }
   ],
   "source": [
    "s  = welcopme # string should be with '',\"\", ''' '''"
   ]
  },
  {
   "cell_type": "code",
   "execution_count": 27,
   "id": "112c1ef7-1eae-4c2a-9f3e-cca7bd203635",
   "metadata": {},
   "outputs": [
    {
     "data": {
      "text/plain": [
       "'welcome'"
      ]
     },
     "execution_count": 27,
     "metadata": {},
     "output_type": "execute_result"
    }
   ],
   "source": [
    "s  = 'welcome' # string should be with '',\"\", ''' '''\n",
    "s"
   ]
  },
  {
   "cell_type": "code",
   "execution_count": 28,
   "id": "8e1251fe-26ec-4157-b6bc-0a539035e78a",
   "metadata": {},
   "outputs": [
    {
     "data": {
      "text/plain": [
       "'welcome'"
      ]
     },
     "execution_count": 28,
     "metadata": {},
     "output_type": "execute_result"
    }
   ],
   "source": [
    "s  = \"welcome\" # string should be with '',\"\", ''' '''\n",
    "s"
   ]
  },
  {
   "cell_type": "code",
   "execution_count": 29,
   "id": "2d17ca2f-1ce5-4513-9614-b7c769e2c725",
   "metadata": {},
   "outputs": [
    {
     "data": {
      "text/plain": [
       "'welcome'"
      ]
     },
     "execution_count": 29,
     "metadata": {},
     "output_type": "execute_result"
    }
   ],
   "source": [
    "s  = '''welcome''' # string should be with '',\"\", ''' ''' (use for multi lines)\n",
    "s"
   ]
  },
  {
   "cell_type": "code",
   "execution_count": 30,
   "id": "f40e9bb3-c987-4d0a-8851-0fda70a67923",
   "metadata": {},
   "outputs": [
    {
     "data": {
      "text/plain": [
       "'welcome\\n            Amit'"
      ]
     },
     "execution_count": 30,
     "metadata": {},
     "output_type": "execute_result"
    }
   ],
   "source": [
    "s  = '''welcome\n",
    "            Amit'''    # string should be with '',\"\", ''' ''' (use for multi lines)\n",
    "s"
   ]
  },
  {
   "cell_type": "code",
   "execution_count": null,
   "id": "bcf14f21-1724-4290-9acb-55b5be49060f",
   "metadata": {},
   "outputs": [],
   "source": []
  }
 ],
 "metadata": {
  "kernelspec": {
   "display_name": "Python 3 (ipykernel)",
   "language": "python",
   "name": "python3"
  },
  "language_info": {
   "codemirror_mode": {
    "name": "ipython",
    "version": 3
   },
   "file_extension": ".py",
   "mimetype": "text/x-python",
   "name": "python",
   "nbconvert_exporter": "python",
   "pygments_lexer": "ipython3",
   "version": "3.13.5"
  }
 },
 "nbformat": 4,
 "nbformat_minor": 5
}
