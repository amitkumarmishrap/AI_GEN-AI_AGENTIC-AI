{
 "cells": [
  {
   "cell_type": "markdown",
   "id": "14bb823a-b216-45ab-9909-68073f269b7b",
   "metadata": {},
   "source": [
    "# Slicing - 2nd Sep..."
   ]
  },
  {
   "cell_type": "code",
   "execution_count": 1,
   "id": "6dcb27f3-93ee-40bd-b183-aa10ff4701b8",
   "metadata": {},
   "outputs": [],
   "source": [
    "index = 'a3max'"
   ]
  },
  {
   "cell_type": "code",
   "execution_count": 2,
   "id": "8eafca70-2b92-4fa9-8fc5-ee58e0c07940",
   "metadata": {},
   "outputs": [
    {
     "data": {
      "text/plain": [
       "'a3max'"
      ]
     },
     "execution_count": 2,
     "metadata": {},
     "output_type": "execute_result"
    }
   ],
   "source": [
    "index\n"
   ]
  },
  {
   "cell_type": "code",
   "execution_count": 3,
   "id": "df431810-5f15-4977-ad6d-13f15f699012",
   "metadata": {},
   "outputs": [
    {
     "data": {
      "text/plain": [
       "'ma'"
      ]
     },
     "execution_count": 3,
     "metadata": {},
     "output_type": "execute_result"
    }
   ],
   "source": [
    "index[2:4]"
   ]
  },
  {
   "cell_type": "code",
   "execution_count": 4,
   "id": "5e23d386-b313-4091-a96a-6cf4eeee11fc",
   "metadata": {},
   "outputs": [
    {
     "data": {
      "text/plain": [
       "'a3ma'"
      ]
     },
     "execution_count": 4,
     "metadata": {},
     "output_type": "execute_result"
    }
   ],
   "source": [
    "index[0:4]"
   ]
  },
  {
   "cell_type": "code",
   "execution_count": 6,
   "id": "e4fc091b-f17e-4659-bc91-c067c415b0c0",
   "metadata": {},
   "outputs": [
    {
     "data": {
      "text/plain": [
       "'a3max'"
      ]
     },
     "execution_count": 6,
     "metadata": {},
     "output_type": "execute_result"
    }
   ],
   "source": [
    "index[:5]"
   ]
  },
  {
   "cell_type": "code",
   "execution_count": 7,
   "id": "2b2b740e-813d-484c-aa61-c9376aa085f3",
   "metadata": {},
   "outputs": [],
   "source": [
    "ind = 'hellopython'"
   ]
  },
  {
   "cell_type": "code",
   "execution_count": 8,
   "id": "0312a243-d95b-4b81-8b7f-01103aaa0191",
   "metadata": {},
   "outputs": [
    {
     "data": {
      "text/plain": [
       "'hellopython'"
      ]
     },
     "execution_count": 8,
     "metadata": {},
     "output_type": "execute_result"
    }
   ],
   "source": [
    "ind[:]"
   ]
  },
  {
   "cell_type": "code",
   "execution_count": 9,
   "id": "22a910aa-edc5-41fe-a09f-4ef00915caf1",
   "metadata": {},
   "outputs": [
    {
     "data": {
      "text/plain": [
       "'ellopython'"
      ]
     },
     "execution_count": 9,
     "metadata": {},
     "output_type": "execute_result"
    }
   ],
   "source": [
    "ind[1:]"
   ]
  },
  {
   "cell_type": "code",
   "execution_count": 10,
   "id": "c2534493-4a29-43fc-99e5-bf437b7f47e8",
   "metadata": {},
   "outputs": [
    {
     "data": {
      "text/plain": [
       "'hellopyt'"
      ]
     },
     "execution_count": 10,
     "metadata": {},
     "output_type": "execute_result"
    }
   ],
   "source": [
    "ind[:8]"
   ]
  },
  {
   "cell_type": "code",
   "execution_count": 11,
   "id": "97a57597-9336-401d-a891-9cd15dad6810",
   "metadata": {},
   "outputs": [
    {
     "data": {
      "text/plain": [
       "'hon'"
      ]
     },
     "execution_count": 11,
     "metadata": {},
     "output_type": "execute_result"
    }
   ],
   "source": [
    "ind[-3:]"
   ]
  },
  {
   "cell_type": "code",
   "execution_count": 12,
   "id": "e8ba7682-8087-4774-9fd0-bf5e9035faca",
   "metadata": {},
   "outputs": [
    {
     "data": {
      "text/plain": [
       "'hellopyt'"
      ]
     },
     "execution_count": 12,
     "metadata": {},
     "output_type": "execute_result"
    }
   ],
   "source": [
    "ind[:-3]"
   ]
  },
  {
   "cell_type": "code",
   "execution_count": 13,
   "id": "7d9174fd-a9b0-406a-9d75-de2567fbf9f8",
   "metadata": {},
   "outputs": [
    {
     "data": {
      "text/plain": [
       "'hellopython'"
      ]
     },
     "execution_count": 13,
     "metadata": {},
     "output_type": "execute_result"
    }
   ],
   "source": [
    "ind"
   ]
  },
  {
   "cell_type": "code",
   "execution_count": 14,
   "id": "d00b6bb8-6263-4583-8b7a-8cb4edb21858",
   "metadata": {},
   "outputs": [
    {
     "data": {
      "text/plain": [
       "'thon'"
      ]
     },
     "execution_count": 14,
     "metadata": {},
     "output_type": "execute_result"
    }
   ],
   "source": [
    "ind[-4:]"
   ]
  },
  {
   "cell_type": "code",
   "execution_count": 24,
   "id": "2a549fe5-8c97-431b-974b-bdc0020fad37",
   "metadata": {},
   "outputs": [],
   "source": [
    "str1 = 'hello python' # string is immutable"
   ]
  },
  {
   "cell_type": "code",
   "execution_count": 19,
   "id": "8088d097-910a-49bc-9897-f0646cb4709f",
   "metadata": {},
   "outputs": [
    {
     "ename": "TypeError",
     "evalue": "'str' object does not support item assignment",
     "output_type": "error",
     "traceback": [
      "\u001b[31m---------------------------------------------------------------------------\u001b[39m",
      "\u001b[31mTypeError\u001b[39m                                 Traceback (most recent call last)",
      "\u001b[36mCell\u001b[39m\u001b[36m \u001b[39m\u001b[32mIn[19]\u001b[39m\u001b[32m, line 1\u001b[39m\n\u001b[32m----> \u001b[39m\u001b[32m1\u001b[39m \u001b[43mstr1\u001b[49m\u001b[43m[\u001b[49m\u001b[32;43m0\u001b[39;49m\u001b[43m:\u001b[49m\u001b[32;43m5\u001b[39;49m\u001b[43m]\u001b[49m = \u001b[33m'\u001b[39m\u001b[33mholla\u001b[39m\u001b[33m'\u001b[39m\n",
      "\u001b[31mTypeError\u001b[39m: 'str' object does not support item assignment"
     ]
    }
   ],
   "source": [
    "str1[0:5] = 'holla'"
   ]
  },
  {
   "cell_type": "code",
   "execution_count": 20,
   "id": "635d5f63-2d00-4784-8dd8-196ce9620f28",
   "metadata": {},
   "outputs": [
    {
     "data": {
      "text/plain": [
       "'hello python'"
      ]
     },
     "execution_count": 20,
     "metadata": {},
     "output_type": "execute_result"
    }
   ],
   "source": [
    "str1"
   ]
  },
  {
   "cell_type": "code",
   "execution_count": 21,
   "id": "3aeb1664-7dd1-4556-b029-520f65662326",
   "metadata": {},
   "outputs": [],
   "source": [
    "del(str1) # delete the string"
   ]
  },
  {
   "cell_type": "code",
   "execution_count": 22,
   "id": "d39687ea-678f-438f-851b-a84ea14626aa",
   "metadata": {},
   "outputs": [
    {
     "ename": "NameError",
     "evalue": "name 'str1' is not defined",
     "output_type": "error",
     "traceback": [
      "\u001b[31m---------------------------------------------------------------------------\u001b[39m",
      "\u001b[31mNameError\u001b[39m                                 Traceback (most recent call last)",
      "\u001b[36mCell\u001b[39m\u001b[36m \u001b[39m\u001b[32mIn[22]\u001b[39m\u001b[32m, line 1\u001b[39m\n\u001b[32m----> \u001b[39m\u001b[32m1\u001b[39m \u001b[43mstr1\u001b[49m\n",
      "\u001b[31mNameError\u001b[39m: name 'str1' is not defined"
     ]
    }
   ],
   "source": [
    "str1\n"
   ]
  },
  {
   "cell_type": "code",
   "execution_count": 23,
   "id": "fb279718-1091-4051-8d76-df63218178cc",
   "metadata": {},
   "outputs": [
    {
     "ename": "NameError",
     "evalue": "name 'str1' is not defined",
     "output_type": "error",
     "traceback": [
      "\u001b[31m---------------------------------------------------------------------------\u001b[39m",
      "\u001b[31mNameError\u001b[39m                                 Traceback (most recent call last)",
      "\u001b[36mCell\u001b[39m\u001b[36m \u001b[39m\u001b[32mIn[23]\u001b[39m\u001b[32m, line 1\u001b[39m\n\u001b[32m----> \u001b[39m\u001b[32m1\u001b[39m \u001b[43mstr1\u001b[49m\n",
      "\u001b[31mNameError\u001b[39m: name 'str1' is not defined"
     ]
    }
   ],
   "source": [
    "str1"
   ]
  },
  {
   "cell_type": "code",
   "execution_count": 25,
   "id": "41ee2013-7d4c-46ef-828c-e69ee278843c",
   "metadata": {},
   "outputs": [
    {
     "data": {
      "text/plain": [
       "'hello python'"
      ]
     },
     "execution_count": 25,
     "metadata": {},
     "output_type": "execute_result"
    }
   ],
   "source": [
    "str1"
   ]
  },
  {
   "cell_type": "code",
   "execution_count": 26,
   "id": "b92c7eb3-2604-406c-ba67-ae091f50fc4f",
   "metadata": {},
   "outputs": [
    {
     "data": {
      "text/plain": [
       "'a3max'"
      ]
     },
     "execution_count": 26,
     "metadata": {},
     "output_type": "execute_result"
    }
   ],
   "source": [
    "index[0:10] # no bug as interperter is smart"
   ]
  },
  {
   "cell_type": "code",
   "execution_count": 27,
   "id": "c5852142-cdc0-427e-911c-b1d85959cfb8",
   "metadata": {},
   "outputs": [
    {
     "data": {
      "text/plain": [
       "'amx'"
      ]
     },
     "execution_count": 27,
     "metadata": {},
     "output_type": "execute_result"
    }
   ],
   "source": [
    "index[0:10:2] # step indexing"
   ]
  },
  {
   "cell_type": "code",
   "execution_count": 28,
   "id": "691ced3c-a71a-4ed3-a8bc-9f75948c1d4e",
   "metadata": {},
   "outputs": [
    {
     "data": {
      "text/plain": [
       "'ax'"
      ]
     },
     "execution_count": 28,
     "metadata": {},
     "output_type": "execute_result"
    }
   ],
   "source": [
    "index[0:5:4] # step indexing"
   ]
  },
  {
   "cell_type": "code",
   "execution_count": 29,
   "id": "8824e351-f71c-4b97-bbb7-6229bb664b1f",
   "metadata": {},
   "outputs": [],
   "source": [
    "s1 = \"Hello\"\n",
    "s2 = \"Amms\"\n",
    "s3 = s1 + s2"
   ]
  },
  {
   "cell_type": "code",
   "execution_count": 30,
   "id": "f5a70d42-3013-429f-b4c2-c3a93567dc9d",
   "metadata": {},
   "outputs": [
    {
     "data": {
      "text/plain": [
       "'HelloAmms'"
      ]
     },
     "execution_count": 30,
     "metadata": {},
     "output_type": "execute_result"
    }
   ],
   "source": [
    "s3"
   ]
  },
  {
   "cell_type": "markdown",
   "id": "4aef1f19-2192-43b7-a47b-4bf2f719bb15",
   "metadata": {},
   "source": [
    "# Print()"
   ]
  },
  {
   "cell_type": "code",
   "execution_count": 31,
   "id": "b399f5ae-820e-4da6-92b3-2f713422d89e",
   "metadata": {},
   "outputs": [
    {
     "name": "stdout",
     "output_type": "stream",
     "text": [
      "10\n"
     ]
    }
   ],
   "source": [
    "print(10)"
   ]
  },
  {
   "cell_type": "code",
   "execution_count": 34,
   "id": "6a9b2172-bc87-4c61-82af-09f158922c8f",
   "metadata": {},
   "outputs": [
    {
     "name": "stdout",
     "output_type": "stream",
     "text": [
      "10 20\n",
      "python\n",
      "10 20 Amms\n"
     ]
    }
   ],
   "source": [
    "print(10,20)\n",
    "print('python')\n",
    "print(10,20,'Amms')"
   ]
  },
  {
   "cell_type": "code",
   "execution_count": 37,
   "id": "aa5fb68a-79da-47ae-ba02-7f1fde2e64e8",
   "metadata": {},
   "outputs": [
    {
     "name": "stdout",
     "output_type": "stream",
     "text": [
      "Add of num1 10 and 20 is= 30\n"
     ]
    }
   ],
   "source": [
    "num1 = 10\n",
    "num2 = 20\n",
    "num3 = num1 + num2\n",
    "print(\"Add of num1\", num1, 'and', num2, 'is=', num3)"
   ]
  },
  {
   "cell_type": "markdown",
   "id": "56529c6d-6dc4-4a72-be0b-e3e4c02636d3",
   "metadata": {},
   "source": [
    "# Print format Method"
   ]
  },
  {
   "cell_type": "code",
   "execution_count": 40,
   "id": "14fc378a-a3a4-4030-b7e2-8e23674918cb",
   "metadata": {},
   "outputs": [
    {
     "name": "stdout",
     "output_type": "stream",
     "text": [
      "Addition of 10, 20, is = 30\n"
     ]
    }
   ],
   "source": [
    "num1 = 10\n",
    "num2 = 20\n",
    "num3 = num1 + num2\n",
    "print('Addition of {}, {}, is = {}'.format(num1,num2,num3))"
   ]
  },
  {
   "cell_type": "code",
   "execution_count": 43,
   "id": "13d740df-9c67-46f7-8548-623c9b420044",
   "metadata": {},
   "outputs": [
    {
     "name": "stdout",
     "output_type": "stream",
     "text": [
      "hello good morning\n"
     ]
    }
   ],
   "source": [
    "print('hello',end='') # it wont go to next line when use end = ''\n",
    "print(' good morning')"
   ]
  },
  {
   "cell_type": "code",
   "execution_count": null,
   "id": "cd6e1120-09ac-4bcd-83f5-d3f2cae2fca7",
   "metadata": {},
   "outputs": [],
   "source": []
  }
 ],
 "metadata": {
  "kernelspec": {
   "display_name": "Python 3 (ipykernel)",
   "language": "python",
   "name": "python3"
  },
  "language_info": {
   "codemirror_mode": {
    "name": "ipython",
    "version": 3
   },
   "file_extension": ".py",
   "mimetype": "text/x-python",
   "name": "python",
   "nbconvert_exporter": "python",
   "pygments_lexer": "ipython3",
   "version": "3.13.5"
  }
 },
 "nbformat": 4,
 "nbformat_minor": 5
}
